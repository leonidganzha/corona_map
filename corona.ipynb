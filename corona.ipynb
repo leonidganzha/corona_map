{
 "metadata": {
  "language_info": {
   "codemirror_mode": {
    "name": "ipython",
    "version": 3
   },
   "file_extension": ".py",
   "mimetype": "text/x-python",
   "name": "python",
   "nbconvert_exporter": "python",
   "pygments_lexer": "ipython3",
   "version": "3.8.5-final"
  },
  "orig_nbformat": 2,
  "kernelspec": {
   "name": "python3",
   "display_name": "Python 3",
   "language": "python"
  }
 },
 "nbformat": 4,
 "nbformat_minor": 2,
 "cells": [
  {
   "cell_type": "code",
   "execution_count": null,
   "metadata": {},
   "outputs": [],
   "source": [
    "from bs4 import BeautifulSoup\n",
    "import re\n",
    "import pandas as pd\n",
    "import geopandas as gpd\n",
    "import matplotlib.pyplot as plt\n",
    "from mpl_toolkits.axes_grid1 import make_axes_locatable\n",
    "pd.options.display.max_columns = None\n",
    "pd.options.display.max_rows = 100"
   ]
  },
  {
   "cell_type": "code",
   "execution_count": null,
   "metadata": {},
   "outputs": [],
   "source": [
    "soup = BeautifulSoup(open('D:\\\\Drive\\\\VSCode\\\\Python\\\\messages.html', encoding='utf-8'), 'html.parser')\n",
    "tags = soup.findAll('div', 'body')"
   ]
  },
  {
   "cell_type": "code",
   "execution_count": null,
   "metadata": {},
   "outputs": [],
   "source": [
    "strs = [str(tag) for tag in tags]\n",
    "stat_strs = [s for s in strs if 'За последние сутки в России' in s]"
   ]
  },
  {
   "cell_type": "code",
   "execution_count": null,
   "metadata": {},
   "outputs": [],
   "source": [
    "data = dict()\n",
    "for message in stat_strs:\n",
    "    date = re.search(r'title=\\\"(.*?) ', message).group(1)\n",
    "    daily = re.search(r'🔸(.*?)Всего на сегодняшний день в России', message).group(1)\n",
    "    data.update({date : daily})\n",
    "\n",
    "regex_for_tag = re.compile('<.*?>')\n",
    "for date in data:\n",
    "    data[date] = data[date].split('🔸')\n",
    "\n",
    "for date in data:\n",
    "    for i in range(len(data[date])):\n",
    "        data[date][i] = re.sub(regex_for_tag, '', data[date][i])\n",
    "        data[date][i] = re.sub('\\xa0 ', '', data[date][i])\n",
    "        data[date][i] = data[date][i].strip()\n",
    "        try:\n",
    "            spl = data[date][i].split(' - ')\n",
    "            data[date][i] = {spl[0] : int(spl[1].replace(' ', ''))}\n",
    "        except:\n",
    "            spl = data[date][i].split('- ')\n",
    "            data[date][i] = {spl[0] : int(spl[1])}\n",
    "\n",
    "    data[date].insert(0, {'Дата' : date})\n",
    "\n",
    "    temp_d = {}\n",
    "    for i in range(len(data[date])):\n",
    "        temp_d.update(data[date][i])\n",
    "    data[date] = temp_d\n",
    "\n",
    "\n",
    "data = list(data.values())"
   ]
  },
  {
   "cell_type": "code",
   "execution_count": null,
   "metadata": {},
   "outputs": [],
   "source": [
    "df = pd.DataFrame(data)\n",
    "display(df)"
   ]
  },
  {
   "cell_type": "code",
   "execution_count": null,
   "metadata": {},
   "outputs": [],
   "source": [
    "li = list(df.columns)\n",
    "li.sort()\n",
    "print(li)"
   ]
  },
  {
   "cell_type": "code",
   "execution_count": null,
   "metadata": {},
   "outputs": [],
   "source": [
    "def join_col(df, cols):\n",
    "    if len(cols) == 2:\n",
    "        a = cols[0]\n",
    "        b = cols[1]\n",
    "        df[a] = df[a].fillna(df[b])\n",
    "        df = df.drop(columns = [b])\n",
    "    if len(cols) == 3:\n",
    "        a = cols[0]\n",
    "        b = cols[1]\n",
    "        c = cols[2]\n",
    "        df[b] = df[b].fillna(df[c])\n",
    "        df[a] = df[a].fillna(df[b])\n",
    "        df = df.drop(columns = [b, c])\n",
    "    return df"
   ]
  },
  {
   "cell_type": "code",
   "execution_count": null,
   "metadata": {},
   "outputs": [],
   "source": [
    "df = join_col(df, ['Еврейская АО', 'Еврейская автономная область'])\n",
    "df = join_col(df, ['Кировская область', 'Кировская область '])\n",
    "df = join_col(df, ['Ненецкий АО', 'Ненецкий  АО', 'Ненецкий автономный округ'])\n",
    "df = join_col(df, ['Орловская область', 'Орловская область '])\n",
    "df = join_col(df, ['Республика Дагестан', 'Республика Дагестан '])\n",
    "df = join_col(df, ['Республика Северная Осетия', 'Республика Северная Осетия-Алания'])\n",
    "df = join_col(df, ['Санкт-Петербург', 'Санкт-Петербург  '])\n",
    "df = join_col(df, ['Севастополь', 'г. Севастополь', 'г.Севастополь'])\n",
    "df = join_col(df, ['Ханты-Мансийский АО', 'Ханты-Мансийский автономный округ'])\n",
    "df = join_col(df, ['Чукотский АО', 'Чукотский автономный округ'])\n",
    "df = join_col(df, ['Ямало-Ненецкий АО', 'Ямало-Ненецкий автономный округ'])\n",
    "df = join_col(df, ['Чеченская Республика', 'Чеченская республика'])\n",
    "df = join_col(df, ['Республика Алтай', 'Республика  Алтай'])\n",
    "df = join_col(df, ['Чувашская Республика', 'Республика Чувашия'])\n",
    "\n",
    "display(df)"
   ]
  },
  {
   "cell_type": "code",
   "execution_count": null,
   "metadata": {},
   "outputs": [],
   "source": [
    "df = df.fillna(0)\n",
    "df['Дата'] = pd.to_datetime(df['Дата'], format='%d.%m.%Y', errors='ignore')\n",
    "cols = df.columns.drop('Дата')\n",
    "display(df)"
   ]
  },
  {
   "cell_type": "code",
   "execution_count": null,
   "metadata": {},
   "outputs": [],
   "source": [
    "df_pop = pd.read_csv('population.csv', encoding='utf-8', header=None)\n",
    "display(df_pop)"
   ]
  },
  {
   "cell_type": "code",
   "execution_count": null,
   "metadata": {},
   "outputs": [],
   "source": [
    "df_pop = df_pop.T\n",
    "display(df_pop)"
   ]
  },
  {
   "cell_type": "code",
   "execution_count": null,
   "metadata": {},
   "outputs": [],
   "source": [
    "new_header = df_pop.iloc[0]\n",
    "df_pop = df_pop.iloc[[1]]\n",
    "df_pop.columns = new_header\n",
    "df_pop = df_pop.reset_index()\n",
    "df_pop = df_pop.drop(columns='index')\n",
    "display(df_pop)"
   ]
  },
  {
   "cell_type": "code",
   "execution_count": null,
   "metadata": {},
   "outputs": [],
   "source": [
    "df1 = pd.DataFrame()\n",
    "regions = list(df_pop.columns)\n",
    "for region in regions:\n",
    "    df1[region] = (df[region] * 1000000) / df_pop.at[0, region]\n",
    "\n",
    "df1.insert(loc=0, column='Дата', value=df['Дата'])\n",
    "\n",
    "display(df)"
   ]
  },
  {
   "cell_type": "code",
   "execution_count": null,
   "metadata": {},
   "outputs": [],
   "source": [
    "display(df1)"
   ]
  },
  {
   "cell_type": "code",
   "execution_count": null,
   "metadata": {},
   "outputs": [],
   "source": [
    "zipfile = \"zip:///Drive//VSCode//Python//ne_10m_admin_1_states_provinces.zip\"\n",
    "gdf = gpd.read_file(zipfile, encoding = 'UTF-8')\n",
    "display(gdf)"
   ]
  },
  {
   "cell_type": "code",
   "execution_count": null,
   "metadata": {},
   "outputs": [],
   "source": [
    "flag = gdf['gu_a3'] == 'RUS'\n",
    "ru_gdf = gdf[flag]\n",
    "ru_gdf = ru_gdf[['name', 'name_local', 'geometry']]\n",
    "ru_gdf = ru_gdf.reset_index()\n",
    "display(ru_gdf)"
   ]
  },
  {
   "cell_type": "code",
   "execution_count": null,
   "metadata": {},
   "outputs": [],
   "source": [
    "ru_gdf.at[5, 'name_local'] = 'Республика Северная Осетия'\n",
    "ru_gdf.at[6, 'name_local'] = 'Республика Ингушетия'\n",
    "ru_gdf.at[7, 'name_local'] = 'Чеченская Республика'\n",
    "ru_gdf.at[23, 'name_local'] = 'Еврейская АО'\n",
    "ru_gdf.at[3, 'name_local'] = 'Карачаево-Черкесская Республика'\n",
    "ru_gdf.at[36, 'name_local'] = 'Республика Крым'\n",
    "ru_gdf.at[39, 'name_local'] = 'Севастополь'\n",
    "ru_gdf.at[40, 'name_local'] = 'Чукотский АО'\n",
    "ru_gdf.at[41, 'name_local'] = 'Ямало-Ненецкий АО'\n",
    "ru_gdf.at[42, 'name_local'] = 'Ненецкий АО'\n",
    "ru_gdf.at[43, 'name_local'] = 'Республика Саха (Якутия)'\n",
    "ru_gdf.at[44, 'name_local'] = 'Санкт-Петербург'\n",
    "ru_gdf.at[45, 'name_local'] = 'Архангельская область'\n",
    "ru_gdf.at[48, 'name_local'] = 'Камчатский край'\n",
    "ru_gdf.at[52, 'name_local'] = 'Ханты-Мансийский АО'\n",
    "ru_gdf.at[76, 'name_local'] = 'Московская область'\n",
    "ru_gdf.at[77, 'name_local'] = 'Москва'\n",
    "ru_gdf.at[82, 'name_local'] = 'Пермский край'\n",
    "ru_gdf = ru_gdf.sort_values(by='name_local')\n",
    "ru_gdf = ru_gdf.to_crs({'init' :'epsg:3576'})\n",
    "ru_gdf = ru_gdf.reset_index()\n",
    "ru_gdf = ru_gdf.drop(index=80)\n",
    "ru_gdf = ru_gdf.drop(index=85)\n",
    "display(ru_gdf)"
   ]
  },
  {
   "cell_type": "code",
   "execution_count": null,
   "metadata": {},
   "outputs": [],
   "source": [
    "data2020_12_27 = df1.loc[275]\n",
    "data2020_12_27 = pd.DataFrame(data2020_12_27)\n",
    "data2020_12_27 = data2020_12_27.drop(index='Дата')\n",
    "data2020_12_27.columns = ['n']\n",
    "data2020_12_27 = data2020_12_27.sort_index() \n",
    "data2020_12_27['name'] = data2020_12_27.index\n",
    "data2020_12_27 = data2020_12_27.reset_index()\n",
    "data2020_12_27 = data2020_12_27.drop(columns='name')\n",
    "\n",
    "\n",
    "display(data2020_12_27)"
   ]
  },
  {
   "cell_type": "code",
   "execution_count": null,
   "metadata": {},
   "outputs": [],
   "source": [
    "gdf2020_12_27 = ru_gdf.merge(data2020_12_27, right_on='index', left_on='name_local')\n",
    "gdf2020_12_27 = gdf2020_12_27.astype({'n': 'float'})\n",
    "display(gdf2020_12_27)"
   ]
  },
  {
   "cell_type": "code",
   "execution_count": null,
   "metadata": {},
   "outputs": [],
   "source": [
    "fig, ax = plt.subplots(1, 1)\n",
    "hmap = gdf2020_12_27.plot(column='n',ax=ax,legend=True,legend_kwds={'label': \"Заболевшие за 27.12.2020 на 1 млн человек\", 'orientation': \"horizontal\"})\n",
    "hmap.figure.savefig('27.12.png', dpi=500, transparent=False)"
   ]
  },
  {
   "cell_type": "code",
   "execution_count": null,
   "metadata": {},
   "outputs": [],
   "source": [
    "def plotter(i):\n",
    "    data = df1.loc[i]\n",
    "    date = data.iloc[0]\n",
    "    date = str(date)[:10]\n",
    "    data = pd.DataFrame(data)\n",
    "    data = data.drop(index='Дата')\n",
    "    data.columns = ['n']\n",
    "    data = data.sort_index() \n",
    "    data['name'] = data.index\n",
    "    data = data.reset_index()\n",
    "    data = data.drop(columns='name')\n",
    "    gdf = ru_gdf.merge(data, right_on='index', left_on='name_local')\n",
    "    gdf = gdf.astype({'n': 'float'})\n",
    "\n",
    "    plt.rcParams[\"figure.facecolor\"] = 'w'\n",
    "    fig, ax = plt.subplots(1, 1)\n",
    "    plt.axis('off')\n",
    "    hmap = gdf.plot(column='n',ax=ax,legend=True,legend_kwds={'label': \"Заболевшие за \" + date + \" на 1 млн человек\", 'orientation': \"vertical\"}, vmin=0, vmax=700, cmap='rainbow')\n",
    "    hmap.figure.savefig('hmaps/' + str(i) + '.png', dpi=200, transparent=False)\n"
   ]
  },
  {
   "cell_type": "code",
   "execution_count": null,
   "metadata": {},
   "outputs": [],
   "source": [
    "#for i in range(276):\n",
    "    #plotter(i)"
   ]
  }
 ]
}
